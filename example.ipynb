{
 "cells": [
  {
   "cell_type": "markdown",
   "metadata": {},
   "source": [
    "# Example notebook"
   ]
  },
  {
   "cell_type": "markdown",
   "metadata": {},
   "source": [
    "This notebook is powered by a UBC-supported [binderhub](https://github.com/jupyterhub/binderhub), which is a scalable system that spawns single user Jupyter Notebook servers via a public IP address. Please run the code below to see it in action!"
   ]
  },
  {
   "cell_type": "code",
   "execution_count": null,
   "metadata": {},
   "outputs": [],
   "source": [
    "import numpy as np\n",
    "import matplotlib.pyplot as plt"
   ]
  },
  {
   "cell_type": "code",
   "execution_count": null,
   "metadata": {},
   "outputs": [],
   "source": [
    "fig, ax = plt.subplots(1, 1, figsize=(6, 6))\n",
    "# Eyes\n",
    "ax.scatter([0.5], [0.5], c=\"#FFCC00\", s=80000, label=\"face\")\n",
    "ax.scatter([0.35, 0.65], [0.63, 0.63], c=\"k\", s=1500, label=\"eyes\")\n",
    "# Smile\n",
    "X = np.linspace(0.3, 0.7, 100)\n",
    "Y = 2 * (X - 0.5) ** 2 + 0.25\n",
    "ax.plot(X, Y, c=\"k\", linewidth=10, label=\"smile\")\n",
    "# Formatting\n",
    "ax.set_title(\"Hi there CSIRO!\", fontdict={\"size\": 32})\n",
    "ax.set_xlim(0, 1)\n",
    "ax.set_ylim(0, 1)\n",
    "ax.axis(\"off\");"
   ]
  }
 ],
 "metadata": {
  "kernelspec": {
   "display_name": "Python 3",
   "language": "python",
   "name": "python3"
  },
  "language_info": {
   "codemirror_mode": {
    "name": "ipython",
    "version": 3
   },
   "file_extension": ".py",
   "mimetype": "text/x-python",
   "name": "python",
   "nbconvert_exporter": "python",
   "pygments_lexer": "ipython3",
   "version": "3.7.8"
  }
 },
 "nbformat": 4,
 "nbformat_minor": 4
}
